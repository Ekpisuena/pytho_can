{
 "cells": [
  {
   "cell_type": "markdown",
   "id": "62a534d1-225a-43ad-91b7-c200bba2ea7b",
   "metadata": {},
   "source": [
    "Task 5 and Task 6 - Country Classification and merging dataframes"
   ]
  },
  {
   "cell_type": "markdown",
   "id": "b5405e48-16ea-4c6a-ade2-5d6d4f25dbb9",
   "metadata": {},
   "source": [
    "SQL Query file - country.sql\n",
    "SQL download file - country_list.csv"
   ]
  },
  {
   "cell_type": "markdown",
   "id": "64e1ed3a-c007-403a-a243-0b3c4dedc6d0",
   "metadata": {},
   "source": [
    "Task5 - Country Classification"
   ]
  },
  {
   "cell_type": "code",
   "execution_count": 4,
   "id": "e8658483-c421-44b7-92f4-fdb1a0a6df8f",
   "metadata": {},
   "outputs": [
    {
     "name": "stdout",
     "output_type": "stream",
     "text": [
      "          country  revenue\n",
      "0         Vietnam   676.45\n",
      "1       Hong Kong   104.76\n",
      "2           Japan  3122.51\n",
      "3   United States  3685.81\n",
      "4          Canada   559.70\n",
      "5       Argentina  1298.80\n",
      "6          Brazil  2919.19\n",
      "7     Switzerland   248.41\n",
      "8         Germany   741.24\n",
      "9           India  6034.78\n",
      "10        Nigeria  1314.92\n",
      "11           Chad   122.72\n",
      "12        Algeria   349.18\n"
     ]
    }
   ],
   "source": [
    "import pandas as pd\n",
    "import numpy as np\n",
    "import matplotlib.pyplot as plt\n",
    "data_f={'country': ['Vietnam','Hong Kong', 'Japan', 'United States', 'Canada', 'Argentina', 'Brazil', 'Switzerland', 'Germany', 'India', 'Nigeria', 'Chad', 'Algeria'],\n",
    "'revenue': [676.45, 104.76, 3122.51, 3685.81, 559.70, 1298.80, 2919.19, 248.41, 741.24, 6034.78, 1314.92, 122.72, 349.18]}\n",
    "df6 = pd.DataFrame(data_f)\n",
    "print(df6)"
   ]
  },
  {
   "cell_type": "code",
   "execution_count": 5,
   "id": "ea1f94c7-c8ed-469d-b0dd-3f4768a114b2",
   "metadata": {},
   "outputs": [
    {
     "name": "stdout",
     "output_type": "stream",
     "text": [
      "          country rev_category\n",
      "0         Vietnam           Q4\n",
      "1       Hong Kong           Q1\n",
      "2           Japan           Q4\n",
      "3   United States           Q4\n",
      "4          Canada           Q4\n",
      "5       Argentina           Q4\n",
      "6          Brazil           Q4\n",
      "7     Switzerland           Q3\n",
      "8         Germany           Q4\n",
      "9           India           Q4\n",
      "10        Nigeria           Q4\n",
      "11           Chad           Q2\n",
      "12        Algeria           Q3\n"
     ]
    }
   ],
   "source": [
    "conditions = [ df6['revenue'] <= 113.98, (df6['revenue'] > 113.98) & (df6['revenue']<= 214.9850), \n",
    "     (df6['revenue'] > 214.9850) & (df6['revenue']<= 517.2925), df6['revenue'] > 517.2925 ]\n",
    "choices = [ 'Q1', 'Q2', 'Q3', 'Q4']\n",
    "#quartile is used to categorize the countries'revenue\n",
    "#QD - means that the country's revenue falls within the lowest 25% of all the countries' revenue values in the dataset\n",
    "#QC - means that the country's revenue is greater than the bottom 25% of the countries but falls below 50% of all the countries' revenue values in the dataset\n",
    "#QB - means that the country's revenue is greater than the bottom 50%  the countries but falls below the upper 25% of all the countries' revenue values in the dataset\n",
    "#QA - means that the country's revenue is in the top 25% of all countries' revenue\n",
    "df6['rev_category'] = np.select(conditions, choices, default=np.nan)\n",
    "df_new = df6[['country', 'rev_category']]\n",
    "print(df_new)"
   ]
  },
  {
   "cell_type": "code",
   "execution_count": 5,
   "id": "e76e4195-7175-4a2d-b2d0-63f51668be84",
   "metadata": {},
   "outputs": [
    {
     "data": {
      "text/html": [
       "<div>\n",
       "<style scoped>\n",
       "    .dataframe tbody tr th:only-of-type {\n",
       "        vertical-align: middle;\n",
       "    }\n",
       "\n",
       "    .dataframe tbody tr th {\n",
       "        vertical-align: top;\n",
       "    }\n",
       "\n",
       "    .dataframe thead th {\n",
       "        text-align: right;\n",
       "    }\n",
       "</style>\n",
       "<table border=\"1\" class=\"dataframe\">\n",
       "  <thead>\n",
       "    <tr style=\"text-align: right;\">\n",
       "      <th></th>\n",
       "      <th>country</th>\n",
       "      <th>rev_category</th>\n",
       "    </tr>\n",
       "  </thead>\n",
       "  <tbody>\n",
       "    <tr>\n",
       "      <th>0</th>\n",
       "      <td>Vietnam</td>\n",
       "      <td>Q4</td>\n",
       "    </tr>\n",
       "    <tr>\n",
       "      <th>1</th>\n",
       "      <td>Hong Kong</td>\n",
       "      <td>Q1</td>\n",
       "    </tr>\n",
       "    <tr>\n",
       "      <th>2</th>\n",
       "      <td>Japan</td>\n",
       "      <td>Q4</td>\n",
       "    </tr>\n",
       "    <tr>\n",
       "      <th>3</th>\n",
       "      <td>United States</td>\n",
       "      <td>Q4</td>\n",
       "    </tr>\n",
       "    <tr>\n",
       "      <th>4</th>\n",
       "      <td>Canada</td>\n",
       "      <td>Q4</td>\n",
       "    </tr>\n",
       "    <tr>\n",
       "      <th>5</th>\n",
       "      <td>Argentina</td>\n",
       "      <td>Q4</td>\n",
       "    </tr>\n",
       "    <tr>\n",
       "      <th>6</th>\n",
       "      <td>Brazil</td>\n",
       "      <td>Q4</td>\n",
       "    </tr>\n",
       "    <tr>\n",
       "      <th>7</th>\n",
       "      <td>Switzerland</td>\n",
       "      <td>Q3</td>\n",
       "    </tr>\n",
       "    <tr>\n",
       "      <th>8</th>\n",
       "      <td>Germany</td>\n",
       "      <td>Q4</td>\n",
       "    </tr>\n",
       "    <tr>\n",
       "      <th>9</th>\n",
       "      <td>India</td>\n",
       "      <td>Q4</td>\n",
       "    </tr>\n",
       "    <tr>\n",
       "      <th>10</th>\n",
       "      <td>Nigeria</td>\n",
       "      <td>Q4</td>\n",
       "    </tr>\n",
       "    <tr>\n",
       "      <th>11</th>\n",
       "      <td>Chad</td>\n",
       "      <td>Q2</td>\n",
       "    </tr>\n",
       "    <tr>\n",
       "      <th>12</th>\n",
       "      <td>Algeria</td>\n",
       "      <td>Q3</td>\n",
       "    </tr>\n",
       "  </tbody>\n",
       "</table>\n",
       "</div>"
      ],
      "text/plain": [
       "          country rev_category\n",
       "0         Vietnam           Q4\n",
       "1       Hong Kong           Q1\n",
       "2           Japan           Q4\n",
       "3   United States           Q4\n",
       "4          Canada           Q4\n",
       "5       Argentina           Q4\n",
       "6          Brazil           Q4\n",
       "7     Switzerland           Q3\n",
       "8         Germany           Q4\n",
       "9           India           Q4\n",
       "10        Nigeria           Q4\n",
       "11           Chad           Q2\n",
       "12        Algeria           Q3"
      ]
     },
     "execution_count": 5,
     "metadata": {},
     "output_type": "execute_result"
    }
   ],
   "source": [
    "df_new.head(13)"
   ]
  },
  {
   "cell_type": "markdown",
   "id": "33ce30b7-745f-488f-b022-5df542936d6f",
   "metadata": {},
   "source": [
    "Task 6 - Merging two dataframes"
   ]
  },
  {
   "cell_type": "code",
   "execution_count": 6,
   "id": "a2a36eba-86a9-4fbf-accd-e3688edce4f9",
   "metadata": {},
   "outputs": [
    {
     "name": "stdout",
     "output_type": "stream",
     "text": [
      "                  country rev_category\n",
      "0             Afghanistan          NaN\n",
      "1                 Algeria           Q3\n",
      "2          American Samoa          NaN\n",
      "3                  Angola          NaN\n",
      "4                Anguilla          NaN\n",
      "..                    ...          ...\n",
      "104               Vietnam           Q4\n",
      "105  Virgin Islands, U.S.          NaN\n",
      "106                 Yemen          NaN\n",
      "107            Yugoslavia          NaN\n",
      "108                Zambia          NaN\n",
      "\n",
      "[109 rows x 2 columns]\n"
     ]
    }
   ],
   "source": [
    "df_country=pd.read_csv('Country_list.csv') \n",
    "country_merged=pd.merge(\n",
    "    df_country, df_new, how='left', on = ['country']\n",
    "    )\n",
    "print(country_merged)"
   ]
  },
  {
   "cell_type": "code",
   "execution_count": 7,
   "id": "bd2a7311-a9ba-4aac-82ee-7517d18bd75d",
   "metadata": {},
   "outputs": [
    {
     "data": {
      "text/html": [
       "<div>\n",
       "<style scoped>\n",
       "    .dataframe tbody tr th:only-of-type {\n",
       "        vertical-align: middle;\n",
       "    }\n",
       "\n",
       "    .dataframe tbody tr th {\n",
       "        vertical-align: top;\n",
       "    }\n",
       "\n",
       "    .dataframe thead th {\n",
       "        text-align: right;\n",
       "    }\n",
       "</style>\n",
       "<table border=\"1\" class=\"dataframe\">\n",
       "  <thead>\n",
       "    <tr style=\"text-align: right;\">\n",
       "      <th></th>\n",
       "      <th>country</th>\n",
       "      <th>rev_category</th>\n",
       "    </tr>\n",
       "  </thead>\n",
       "  <tbody>\n",
       "    <tr>\n",
       "      <th>0</th>\n",
       "      <td>Afghanistan</td>\n",
       "      <td>NaN</td>\n",
       "    </tr>\n",
       "    <tr>\n",
       "      <th>1</th>\n",
       "      <td>Algeria</td>\n",
       "      <td>Q3</td>\n",
       "    </tr>\n",
       "    <tr>\n",
       "      <th>2</th>\n",
       "      <td>American Samoa</td>\n",
       "      <td>NaN</td>\n",
       "    </tr>\n",
       "    <tr>\n",
       "      <th>3</th>\n",
       "      <td>Angola</td>\n",
       "      <td>NaN</td>\n",
       "    </tr>\n",
       "    <tr>\n",
       "      <th>4</th>\n",
       "      <td>Anguilla</td>\n",
       "      <td>NaN</td>\n",
       "    </tr>\n",
       "    <tr>\n",
       "      <th>...</th>\n",
       "      <td>...</td>\n",
       "      <td>...</td>\n",
       "    </tr>\n",
       "    <tr>\n",
       "      <th>104</th>\n",
       "      <td>Vietnam</td>\n",
       "      <td>Q4</td>\n",
       "    </tr>\n",
       "    <tr>\n",
       "      <th>105</th>\n",
       "      <td>Virgin Islands, U.S.</td>\n",
       "      <td>NaN</td>\n",
       "    </tr>\n",
       "    <tr>\n",
       "      <th>106</th>\n",
       "      <td>Yemen</td>\n",
       "      <td>NaN</td>\n",
       "    </tr>\n",
       "    <tr>\n",
       "      <th>107</th>\n",
       "      <td>Yugoslavia</td>\n",
       "      <td>NaN</td>\n",
       "    </tr>\n",
       "    <tr>\n",
       "      <th>108</th>\n",
       "      <td>Zambia</td>\n",
       "      <td>NaN</td>\n",
       "    </tr>\n",
       "  </tbody>\n",
       "</table>\n",
       "<p>109 rows × 2 columns</p>\n",
       "</div>"
      ],
      "text/plain": [
       "                  country rev_category\n",
       "0             Afghanistan          NaN\n",
       "1                 Algeria           Q3\n",
       "2          American Samoa          NaN\n",
       "3                  Angola          NaN\n",
       "4                Anguilla          NaN\n",
       "..                    ...          ...\n",
       "104               Vietnam           Q4\n",
       "105  Virgin Islands, U.S.          NaN\n",
       "106                 Yemen          NaN\n",
       "107            Yugoslavia          NaN\n",
       "108                Zambia          NaN\n",
       "\n",
       "[109 rows x 2 columns]"
      ]
     },
     "execution_count": 7,
     "metadata": {},
     "output_type": "execute_result"
    }
   ],
   "source": [
    "country_merged.head(109)"
   ]
  }
 ],
 "metadata": {
  "kernelspec": {
   "display_name": "Python 3 (ipykernel)",
   "language": "python",
   "name": "python3"
  },
  "language_info": {
   "codemirror_mode": {
    "name": "ipython",
    "version": 3
   },
   "file_extension": ".py",
   "mimetype": "text/x-python",
   "name": "python",
   "nbconvert_exporter": "python",
   "pygments_lexer": "ipython3",
   "version": "3.10.7"
  }
 },
 "nbformat": 4,
 "nbformat_minor": 5
}
