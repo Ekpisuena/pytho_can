{
 "cells": [
  {
   "cell_type": "markdown",
   "id": "7083499c-bd6b-4e8a-a468-ed75b8d8241a",
   "metadata": {},
   "source": [
    "Task4 - Top 10 Actors who bringing the most revenue"
   ]
  },
  {
   "cell_type": "markdown",
   "id": "db894994-5cd7-42ae-a9ae-78a03d503727",
   "metadata": {},
   "source": [
    "SQL Query file - DVD_Rental_Actors.sql\n",
    "SQl download file - Actors.csv"
   ]
  },
  {
   "cell_type": "code",
   "execution_count": 1,
   "id": "88f75bcd-4ed1-4d8e-85ac-3cbc71e1c0fc",
   "metadata": {},
   "outputs": [
    {
     "name": "stdout",
     "output_type": "stream",
     "text": [
      "Top 10 Actors Bringing the Most Revenue\n"
     ]
    },
    {
     "data": {
      "text/html": [
       "<div>\n",
       "<style scoped>\n",
       "    .dataframe tbody tr th:only-of-type {\n",
       "        vertical-align: middle;\n",
       "    }\n",
       "\n",
       "    .dataframe tbody tr th {\n",
       "        vertical-align: top;\n",
       "    }\n",
       "\n",
       "    .dataframe thead th {\n",
       "        text-align: right;\n",
       "    }\n",
       "</style>\n",
       "<table border=\"1\" class=\"dataframe\">\n",
       "  <thead>\n",
       "    <tr style=\"text-align: right;\">\n",
       "      <th></th>\n",
       "      <th>actor_name</th>\n",
       "      <th>revenue</th>\n",
       "    </tr>\n",
       "  </thead>\n",
       "  <tbody>\n",
       "    <tr>\n",
       "      <th>0</th>\n",
       "      <td>Susan Davis</td>\n",
       "      <td>3193.49</td>\n",
       "    </tr>\n",
       "    <tr>\n",
       "      <th>1</th>\n",
       "      <td>Gina Degeneres</td>\n",
       "      <td>3129.17</td>\n",
       "    </tr>\n",
       "    <tr>\n",
       "      <th>2</th>\n",
       "      <td>Matthew Carrey</td>\n",
       "      <td>2543.78</td>\n",
       "    </tr>\n",
       "    <tr>\n",
       "      <th>3</th>\n",
       "      <td>Mary Keitel</td>\n",
       "      <td>2426.92</td>\n",
       "    </tr>\n",
       "    <tr>\n",
       "      <th>4</th>\n",
       "      <td>Scarlett Damon</td>\n",
       "      <td>2403.81</td>\n",
       "    </tr>\n",
       "    <tr>\n",
       "      <th>5</th>\n",
       "      <td>Walter Torn</td>\n",
       "      <td>2403.18</td>\n",
       "    </tr>\n",
       "    <tr>\n",
       "      <th>6</th>\n",
       "      <td>Henry Berry</td>\n",
       "      <td>2392.36</td>\n",
       "    </tr>\n",
       "    <tr>\n",
       "      <th>7</th>\n",
       "      <td>Christian Akroyd</td>\n",
       "      <td>2378.97</td>\n",
       "    </tr>\n",
       "    <tr>\n",
       "      <th>8</th>\n",
       "      <td>Angela Witherspoon</td>\n",
       "      <td>2357.11</td>\n",
       "    </tr>\n",
       "    <tr>\n",
       "      <th>9</th>\n",
       "      <td>Cameron Zellweger</td>\n",
       "      <td>2322.94</td>\n",
       "    </tr>\n",
       "  </tbody>\n",
       "</table>\n",
       "</div>"
      ],
      "text/plain": [
       "           actor_name  revenue\n",
       "0         Susan Davis  3193.49\n",
       "1      Gina Degeneres  3129.17\n",
       "2      Matthew Carrey  2543.78\n",
       "3         Mary Keitel  2426.92\n",
       "4      Scarlett Damon  2403.81\n",
       "5         Walter Torn  2403.18\n",
       "6         Henry Berry  2392.36\n",
       "7    Christian Akroyd  2378.97\n",
       "8  Angela Witherspoon  2357.11\n",
       "9   Cameron Zellweger  2322.94"
      ]
     },
     "execution_count": 1,
     "metadata": {},
     "output_type": "execute_result"
    }
   ],
   "source": [
    "import pandas as pd\n",
    "import numpy as np\n",
    "import matplotlib.pyplot as plot\n",
    "df=pd.read_csv('Actors.csv')\n",
    "print('Top 10 Actors Bringing the Most Revenue')\n",
    "df.head(10)\n",
    "#Display the top 10 rows of the datafame, revenue data from csv file were arranged from highest revenue to lowest in postgres"
   ]
  },
  {
   "cell_type": "code",
   "execution_count": null,
   "id": "c854fb26-43fe-455e-ab7d-3d5e341e3bc9",
   "metadata": {},
   "outputs": [],
   "source": []
  }
 ],
 "metadata": {
  "kernelspec": {
   "display_name": "Python 3 (ipykernel)",
   "language": "python",
   "name": "python3"
  },
  "language_info": {
   "codemirror_mode": {
    "name": "ipython",
    "version": 3
   },
   "file_extension": ".py",
   "mimetype": "text/x-python",
   "name": "python",
   "nbconvert_exporter": "python",
   "pygments_lexer": "ipython3",
   "version": "3.10.7"
  }
 },
 "nbformat": 4,
 "nbformat_minor": 5
}
